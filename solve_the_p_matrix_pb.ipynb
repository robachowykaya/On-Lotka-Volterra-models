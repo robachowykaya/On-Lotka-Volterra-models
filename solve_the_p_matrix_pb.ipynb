{
 "cells": [
  {
   "cell_type": "markdown",
   "id": "ccc7e268-7c46-4dbe-9b36-4e880644bd31",
   "metadata": {},
   "source": [
    "**p_matrix_Tsatsomeros** algorithm is based on :\n",
    "\n",
    "@article{title = {Principal minors, Part I: A method for computing all the principal minors of a matrix},\n",
    "journal = {Linear Algebra and its Applications},\n",
    "volume = {419},\n",
    "number = {1},\n",
    "pages = {107-124},\n",
    "year = {2006},\n",
    "issn = {0024-3795},\n",
    "doi = {https://doi.org/10.1016/j.laa.2006.04.008},\n",
    "url = {https://www.sciencedirect.com/science/article/pii/S0024379506002126},\n",
    "author = {Kent Griffin and Michael J. Tsatsomeros},\n",
    "keywords = {Principal submatrix, Schur complement, P-matrix, P-problem},\n",
    "abstract = {An order O(2n) algorithm for computing all the principal minors of an arbitrary n×n complex matrix is motivated and presented, offering an improvement by a factor of n3 over direct computation. The algorithm uses recursive Schur complementation and submatrix extraction, storing the answer in a binary order. An implementation of the algorithm in MATLAB® is also given and practical considerations are discussed and treated accordingly.}}\n",
    "\n",
    "(see also :\n",
    "- page 21/22 http://www.math.wsu.edu/faculty/tsat/files/PmatricesLectureNotes.pdf\n",
    "- page 4 http://www.math.wsu.edu/faculty/tsat/files/tl_c.pdf)"
   ]
  },
  {
   "cell_type": "markdown",
   "id": "4cd87a02-1e94-4c47-b572-7d366e942c1f",
   "metadata": {},
   "source": [
    "**p_matrix_Rohn** algorithm is based on :\n",
    "  \n",
    "@article{title = {An Algorithm for Solving the P-Matrix Problem},\n",
    "journal = {Národní úložiště šedé literatury},\n",
    "url = {https://invenio.nusl.cz/record/81055/files/content.csg.pdf},\n",
    "author = {Jiří Rohn},\n",
    "keywords = {P-matrix problem}}\n",
    "\n",
    "motivated by : https://www.sciencedirect.com/science/article/pii/S0024379501005900\n",
    "\n",
    "(see also :\n",
    "- https://www.sciencedirect.com/science/article/pii/S0024379511001418\n",
    "- https://www.researchgate.net/publication/228571326_An_Algorithm_for_Checking_Regularity_of_Interval_Matrices)"
   ]
  },
  {
   "cell_type": "code",
   "execution_count": null,
   "id": "5a30a792-4ba1-4a21-bd5f-2e586e0cfef6",
   "metadata": {},
   "outputs": [],
   "source": [
    "from uutils import *\n",
    "import numpy as np\n",
    "from math import *\n",
    "import sympy\n",
    "import random"
   ]
  },
  {
   "cell_type": "code",
   "execution_count": 2,
   "id": "9e1b156a-bfe9-4902-ad73-7cf8566f6be3",
   "metadata": {},
   "outputs": [
    {
     "name": "stdout",
     "output_type": "stream",
     "text": [
      "[[ 1.18303811  0.34743281  0.24611074  0.23896902  0.26072786]\n",
      " [-0.13253477  0.63888907 -0.27131472 -0.26577734 -0.22894912]\n",
      " [ 0.23957181  0.3761981   1.33739962  0.2809312   0.34163931]\n",
      " [ 0.05542568  0.01137236  0.07206297  0.99460319  0.06013833]\n",
      " [-0.15283764 -0.48512302 -0.34154688 -0.34017676  0.6598052 ]]\n",
      "True\n",
      "True\n"
     ]
    }
   ],
   "source": [
    "n = 5\n",
    "A = generate_p_matrix(n)\n",
    "print(A) # P MATRIX TRUE\n",
    "\n",
    "pm, J = p_matrix_Rohn(A)\n",
    "\n",
    "if pm == 1:\n",
    "    print(True)\n",
    "else: \n",
    "    print(False)\n",
    "    \n",
    "print(p_matrix_Tsatsomeros(A))"
   ]
  },
  {
   "cell_type": "code",
   "execution_count": 3,
   "id": "f40787cb-c140-46c0-b843-387c135f1c71",
   "metadata": {},
   "outputs": [
    {
     "name": "stdout",
     "output_type": "stream",
     "text": [
      "[[ 1  2]\n",
      " [ 3 -1]]\n",
      "False\n",
      "False\n"
     ]
    }
   ],
   "source": [
    "A = np.array([[1,2],\n",
    "              [3,-1]])\n",
    "print(A) # P MATRIX FALSE\n",
    "\n",
    "pm, J = p_matrix_Rohn(A)\n",
    "\n",
    "if pm == 1:\n",
    "    print(True)\n",
    "else: \n",
    "    print(False)\n",
    "    \n",
    "print(p_matrix_Tsatsomeros(A))"
   ]
  },
  {
   "cell_type": "code",
   "execution_count": 4,
   "id": "8ba0d25e-c9c8-4070-b1ad-5ec71136da18",
   "metadata": {},
   "outputs": [
    {
     "name": "stdout",
     "output_type": "stream",
     "text": [
      "[[1 2]\n",
      " [3 1]]\n",
      "False\n",
      "False\n"
     ]
    }
   ],
   "source": [
    "A = np.array([[1,2],\n",
    "              [3,1]])\n",
    "print(A) # P MATRIX FALSE\n",
    "\n",
    "pm, J = p_matrix_Rohn(A)\n",
    "\n",
    "if pm == 1:\n",
    "    print(True)\n",
    "else: \n",
    "    print(False)\n",
    "    \n",
    "print(p_matrix_Tsatsomeros(A))"
   ]
  },
  {
   "cell_type": "code",
   "execution_count": 5,
   "id": "379dd43c-0d52-46e0-90f1-a50be6f055a3",
   "metadata": {},
   "outputs": [
    {
     "name": "stdout",
     "output_type": "stream",
     "text": [
      "[[1 2 3]\n",
      " [3 1 3]\n",
      " [2 3 1]]\n",
      "False\n",
      "False\n"
     ]
    }
   ],
   "source": [
    "A = np.array([[1,2,3],\n",
    "              [3,1,3],\n",
    "              [2,3,1]])\n",
    "print(A) # P MATRIX FALSE\n",
    "\n",
    "pm, J = p_matrix_Rohn(A)\n",
    "\n",
    "if pm == 1:\n",
    "    print(True)\n",
    "else: \n",
    "    print(False)\n",
    "    \n",
    "print(p_matrix_Tsatsomeros(A))"
   ]
  },
  {
   "cell_type": "code",
   "execution_count": 6,
   "id": "63952f1f-11dc-4ecf-b874-7c3708606007",
   "metadata": {},
   "outputs": [
    {
     "name": "stdout",
     "output_type": "stream",
     "text": [
      "[[  1   2   5]\n",
      " [ -3   5   1]\n",
      " [  0 -20  10]]\n",
      "True\n",
      "True\n"
     ]
    }
   ],
   "source": [
    "# http://www.math.wsu.edu/faculty/tsat/files/pcon_c.pdf ($3 \\times 3$ matrix sign pattern $\\iff$ p-matrix)\n",
    "    \n",
    "A = np.array([[1,2,5],\n",
    "              [-3,5,1],\n",
    "              [0,-20,10]])\n",
    "print(A) # P MATRIX TRUE (sign pattern from the paper above)\n",
    "\n",
    "pm, J = p_matrix_Rohn(A)\n",
    "\n",
    "if pm == 1:\n",
    "    print(True)\n",
    "else: \n",
    "    print(False)\n",
    "    \n",
    "print(p_matrix_Tsatsomeros(A))"
   ]
  }
 ],
 "metadata": {
  "kernelspec": {
   "display_name": "Python 3",
   "language": "python",
   "name": "python3"
  },
  "language_info": {
   "codemirror_mode": {
    "name": "ipython",
    "version": 3
   },
   "file_extension": ".py",
   "mimetype": "text/x-python",
   "name": "python",
   "nbconvert_exporter": "python",
   "pygments_lexer": "ipython3",
   "version": "3.8.8"
  }
 },
 "nbformat": 4,
 "nbformat_minor": 5
}
