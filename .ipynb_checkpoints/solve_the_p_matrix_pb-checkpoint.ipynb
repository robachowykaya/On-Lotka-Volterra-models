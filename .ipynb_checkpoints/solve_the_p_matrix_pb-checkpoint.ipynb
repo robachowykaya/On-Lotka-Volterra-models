{
 "cells": [
  {
   "cell_type": "markdown",
   "id": "ccc7e268-7c46-4dbe-9b36-4e880644bd31",
   "metadata": {},
   "source": [
    "**p_matrix_Tsatsomeros** algorithm is based on :\n",
    "\n",
    "@article{title = {Principal minors, Part I: A method for computing all the principal minors of a matrix},\n",
    "journal = {Linear Algebra and its Applications},\n",
    "volume = {419},\n",
    "number = {1},\n",
    "pages = {107-124},\n",
    "year = {2006},\n",
    "issn = {0024-3795},\n",
    "doi = {https://doi.org/10.1016/j.laa.2006.04.008},\n",
    "url = {https://www.sciencedirect.com/science/article/pii/S0024379506002126},\n",
    "author = {Kent Griffin and Michael J. Tsatsomeros},\n",
    "keywords = {Principal submatrix, Schur complement, P-matrix, P-problem},\n",
    "abstract = {An order O(2n) algorithm for computing all the principal minors of an arbitrary n×n complex matrix is motivated and presented, offering an improvement by a factor of n3 over direct computation. The algorithm uses recursive Schur complementation and submatrix extraction, storing the answer in a binary order. An implementation of the algorithm in MATLAB® is also given and practical considerations are discussed and treated accordingly.}}\n",
    "\n",
    "(see also :\n",
    "- page 21/22 http://www.math.wsu.edu/faculty/tsat/files/PmatricesLectureNotes.pdf\n",
    "- page 4 http://www.math.wsu.edu/faculty/tsat/files/tl_c.pdf)"
   ]
  },
  {
   "cell_type": "markdown",
   "id": "4cd87a02-1e94-4c47-b572-7d366e942c1f",
   "metadata": {},
   "source": [
    "**p_matrix_Rohn** algorithm is based on :\n",
    "  \n",
    "@article{title = {An Algorithm for Solving the P-Matrix Problem},\n",
    "journal = {Národní úložiště šedé literatury},\n",
    "url = {https://invenio.nusl.cz/record/81055/files/content.csg.pdf},\n",
    "author = {Jiří Rohn},\n",
    "keywords = {P-matrix problem}}\n",
    "\n",
    "motivated by : https://www.sciencedirect.com/science/article/pii/S0024379501005900\n",
    "\n",
    "(see also :\n",
    "- https://www.sciencedirect.com/science/article/pii/S0024379511001418\n",
    "- https://www.researchgate.net/publication/228571326_An_Algorithm_for_Checking_Regularity_of_Interval_Matrices)"
   ]
  },
  {
   "cell_type": "code",
   "execution_count": 1,
   "id": "5a30a792-4ba1-4a21-bd5f-2e586e0cfef6",
   "metadata": {},
   "outputs": [],
   "source": [
    "from uutils import *\n",
    "import numpy as np\n",
    "from math import *\n",
    "import sympy\n",
    "import random\n",
    "from sklearn.datasets import make_spd_matrix"
   ]
  },
  {
   "cell_type": "code",
   "execution_count": 2,
   "id": "9e1b156a-bfe9-4902-ad73-7cf8566f6be3",
   "metadata": {},
   "outputs": [
    {
     "name": "stdout",
     "output_type": "stream",
     "text": [
      "P-matrix:\n",
      " [[ 0.94880321 -0.00273327 -0.07043256 -0.23285671 -0.16811908]\n",
      " [-0.08840254  0.67940718 -0.27832008 -0.15925916 -0.34734099]\n",
      " [ 0.00413407 -0.12540027  0.93248482 -0.06845767 -0.03837877]\n",
      " [-0.08027345 -0.40751808 -0.20439627  0.8466788  -0.20928812]\n",
      " [-0.0255904   0.3368734   0.21480151  0.24074812  1.33517706]] \n",
      "\n",
      "Output from Rohn         True\n",
      "Output from Tsatsomeros  True\n"
     ]
    }
   ],
   "source": [
    "n = 5\n",
    "A = generate_p_matrix(n)\n",
    "print(\"P-matrix:\\n\", A, \"\\n\") # P MATRIX TRUE\n",
    "\n",
    "pm, J = p_matrix_Rohn(A)\n",
    "\n",
    "if pm == 1:\n",
    "    print(\"Output from Rohn        \", True)\n",
    "else:\n",
    "    print(\"Output from Rohn        \", False)\n",
    "    \n",
    "print(\"Output from Tsatsomeros \", p_matrix_Tsatsomeros(A))"
   ]
  },
  {
   "cell_type": "code",
   "execution_count": 3,
   "id": "f40787cb-c140-46c0-b843-387c135f1c71",
   "metadata": {},
   "outputs": [
    {
     "name": "stdout",
     "output_type": "stream",
     "text": [
      "Not P-matrix:\n",
      " [[ 1  2]\n",
      " [ 3 -1]] \n",
      "\n",
      "Output from Rohn         False\n",
      "Output from Tsatsomeros  False\n"
     ]
    }
   ],
   "source": [
    "A = np.array([[1,2],\n",
    "              [3,-1]])\n",
    "print(\"Not P-matrix:\\n\", A, \"\\n\") # P MATRIX FALSE\n",
    "\n",
    "pm, J = p_matrix_Rohn(A)\n",
    "\n",
    "if pm == 1:\n",
    "    print(\"Output from Rohn        \", True)\n",
    "else: \n",
    "    print(\"Output from Rohn        \", False)\n",
    "    \n",
    "print(\"Output from Tsatsomeros \", p_matrix_Tsatsomeros(A))"
   ]
  },
  {
   "cell_type": "code",
   "execution_count": 4,
   "id": "8ba0d25e-c9c8-4070-b1ad-5ec71136da18",
   "metadata": {},
   "outputs": [
    {
     "name": "stdout",
     "output_type": "stream",
     "text": [
      "Not P-matrix:\n",
      " [[1 2]\n",
      " [3 1]] \n",
      "\n",
      "Output from Rohn         False\n",
      "Output from Tsatsomeros  False\n"
     ]
    }
   ],
   "source": [
    "A = np.array([[1,2],\n",
    "              [3,1]])\n",
    "print(\"Not P-matrix:\\n\", A, \"\\n\") # P MATRIX FALSE\n",
    "\n",
    "pm, J = p_matrix_Rohn(A)\n",
    "\n",
    "if pm == 1:\n",
    "    print(\"Output from Rohn        \", True)\n",
    "else: \n",
    "    print(\"Output from Rohn        \", False)\n",
    "    \n",
    "print(\"Output from Tsatsomeros \", p_matrix_Tsatsomeros(A))"
   ]
  },
  {
   "cell_type": "code",
   "execution_count": 5,
   "id": "379dd43c-0d52-46e0-90f1-a50be6f055a3",
   "metadata": {},
   "outputs": [
    {
     "name": "stdout",
     "output_type": "stream",
     "text": [
      "Not P-matrix:\n",
      " [[1 2 3]\n",
      " [3 1 3]\n",
      " [2 3 1]] \n",
      "\n",
      "Output from Rohn         False\n",
      "Output from Tsatsomeros  False\n"
     ]
    }
   ],
   "source": [
    "A = np.array([[1,2,3],\n",
    "              [3,1,3],\n",
    "              [2,3,1]])\n",
    "print(\"Not P-matrix:\\n\", A, \"\\n\") # P MATRIX FALSE\n",
    "\n",
    "pm, J = p_matrix_Rohn(A)\n",
    "\n",
    "if pm == 1:\n",
    "    print(\"Output from Rohn        \", True)\n",
    "else: \n",
    "    print(\"Output from Rohn        \", False)\n",
    "    \n",
    "print(\"Output from Tsatsomeros \", p_matrix_Tsatsomeros(A))"
   ]
  },
  {
   "cell_type": "code",
   "execution_count": 6,
   "id": "63952f1f-11dc-4ecf-b874-7c3708606007",
   "metadata": {},
   "outputs": [
    {
     "name": "stdout",
     "output_type": "stream",
     "text": [
      "P-matrix:\n",
      " [[  1   2   5]\n",
      " [ -3   5   1]\n",
      " [  0 -20  10]] \n",
      "\n",
      "Output from Rohn         True\n",
      "Output from Tsatsomeros  True\n"
     ]
    }
   ],
   "source": [
    "# http://www.math.wsu.edu/faculty/tsat/files/pcon_c.pdf ($3 \\times 3$ matrix sign pattern $\\iff$ p-matrix)\n",
    "    \n",
    "A = np.array([[1,2,5],\n",
    "              [-3,5,1],\n",
    "              [0,-20,10]])\n",
    "print(\"P-matrix:\\n\", A, \"\\n\") # P MATRIX TRUE (sign pattern from the paper above)\n",
    "\n",
    "pm, J = p_matrix_Rohn(A)\n",
    "\n",
    "if pm == 1:\n",
    "    print(\"Output from Rohn        \", True)\n",
    "else: \n",
    "    print(\"Output from Rohn        \", False)\n",
    "    \n",
    "print(\"Output from Tsatsomeros \", p_matrix_Tsatsomeros(A))"
   ]
  },
  {
   "cell_type": "code",
   "execution_count": 7,
   "id": "a145d01c-135a-436d-a25d-a8abdfc2cd71",
   "metadata": {},
   "outputs": [
    {
     "name": "stdout",
     "output_type": "stream",
     "text": [
      "CHECKING DONE\n",
      "$\\Gamma$ non symmetric\n",
      "matrix shape 5x5, 500 estimations\n",
      "proportion of results where both algorithms do not give the same output: 0.128\n"
     ]
    }
   ],
   "source": [
    "n = 5\n",
    "nbr_iter = 500\n",
    "pb = 0\n",
    "cannot_solve = 0\n",
    "\n",
    "for _ in range(nbr_iter):\n",
    "    normalized_matrix = np.random.normal(loc=0.0, scale=1.0, size=(n,n)).round(3) / sqrt(n)\n",
    "    matrix = np.eye(n) - normalized_matrix\n",
    "    \n",
    "    pm, J = p_matrix_Rohn(matrix)\n",
    "\n",
    "    if pm == 1:\n",
    "        rohn_pmat = True\n",
    "    elif pm == -1:\n",
    "        cannot_solve += 1\n",
    "    else: \n",
    "        rohn_pmat = False\n",
    "        \n",
    "    tsatso_pmat = p_matrix_Tsatsomeros(matrix)\n",
    "        \n",
    "    if tsatso_pmat != rohn_pmat:\n",
    "        pb += 1\n",
    "        #print(np.linalg.det(matrix), matrix)\n",
    "        #print(\"Output from Rohn        \", rohn_pmat, pm)\n",
    "        #print(\"Output from Tsatsomeros \", tsatso_pmat)\n",
    "        \n",
    "        \n",
    "print(\"CHECKING DONE\")\n",
    "print(r\"$\\Gamma$ non symmetric\")\n",
    "print(f\"matrix shape {n}x{n}, {nbr_iter} estimations\")\n",
    "print(f\"proportion of results where both algorithms do not give the same output: {pb / (nbr_iter - cannot_solve)}\")"
   ]
  },
  {
   "cell_type": "code",
   "execution_count": 8,
   "id": "9e907bfa-8389-4100-9318-eb7359a014be",
   "metadata": {},
   "outputs": [
    {
     "name": "stdout",
     "output_type": "stream",
     "text": [
      "CHECKING DONE\n",
      "$\\Gamma$ non symmetric\n",
      "matrix shape 10x10, 500 estimations\n",
      "proportion of results where both algorithms do not give the same output: 0.318\n"
     ]
    }
   ],
   "source": [
    "n = 10\n",
    "nbr_iter = 500\n",
    "pb = 0\n",
    "cannot_solve = 0\n",
    "\n",
    "for _ in range(nbr_iter):\n",
    "    normalized_matrix = np.random.normal(loc=0.0, scale=1.0, size=(n,n)).round(3) / sqrt(n)\n",
    "    matrix = np.eye(n) - normalized_matrix\n",
    "    \n",
    "    pm, J = p_matrix_Rohn(matrix)\n",
    "\n",
    "    if pm == 1:\n",
    "        rohn_pmat = True\n",
    "    elif pm == -1:\n",
    "        cannot_solve += 1\n",
    "    else: \n",
    "        rohn_pmat = False\n",
    "        \n",
    "    tsatso_pmat = p_matrix_Tsatsomeros(matrix)\n",
    "        \n",
    "    if tsatso_pmat != rohn_pmat:\n",
    "        pb += 1\n",
    "        #print(np.linalg.det(matrix), matrix)\n",
    "        #print(\"Output from Rohn        \", rohn_pmat, pm)\n",
    "        #print(\"Output from Tsatsomeros \", tsatso_pmat)\n",
    "        \n",
    "print(\"CHECKING DONE\")\n",
    "print(r\"$\\Gamma$ non symmetric\")\n",
    "print(f\"matrix shape {n}x{n}, {nbr_iter} estimations\")\n",
    "print(f\"proportion of results where both algorithms do not give the same output: {pb / (nbr_iter - cannot_solve)}\")"
   ]
  },
  {
   "cell_type": "code",
   "execution_count": 9,
   "id": "33c29468-3c0f-45b8-8db7-323389274f35",
   "metadata": {},
   "outputs": [
    {
     "name": "stdout",
     "output_type": "stream",
     "text": [
      "CHECKING DONE\n",
      "W symmetric\n",
      "matrix shape 5x5, 500 estimations\n",
      "proportion of results where both algorithm do not give the same output: 0.012\n"
     ]
    }
   ],
   "source": [
    "n = 5\n",
    "nbr_iter = 500\n",
    "pb = 0\n",
    "cannot_solve = 0\n",
    "\n",
    "for _ in range(nbr_iter):\n",
    "    normalized_wigner = get_wigner((n,n)) / sqrt(n)\n",
    "    matrix = np.eye(n) - normalized_wigner\n",
    "    \n",
    "    pm, J = p_matrix_Rohn(matrix)\n",
    "\n",
    "    if pm == 1:\n",
    "        rohn_pmat = True\n",
    "    elif pm == -1:\n",
    "        cannot_solve += 1\n",
    "    else: \n",
    "        rohn_pmat = False\n",
    "        \n",
    "    tsatso_pmat = p_matrix_Tsatsomeros(matrix)\n",
    "        \n",
    "    if tsatso_pmat != rohn_pmat:\n",
    "        pb += 1\n",
    "        #print(np.linalg.det(matrix), matrix)\n",
    "        #print(\"Output from Rohn        \", rohn_pmat, pm)\n",
    "        #print(\"Output from Tsatsomeros \", tsatso_pmat)\n",
    "        \n",
    "print(\"CHECKING DONE\")\n",
    "print(r\"W symmetric\")\n",
    "print(f\"matrix shape {n}x{n}, {nbr_iter} estimations\")\n",
    "print(f\"proportion of results where both algorithm do not give the same output: {pb / (nbr_iter - cannot_solve)}\")"
   ]
  },
  {
   "cell_type": "code",
   "execution_count": 10,
   "id": "c5e09c76-2d21-4620-a2e7-e011e71cb69a",
   "metadata": {},
   "outputs": [
    {
     "name": "stdout",
     "output_type": "stream",
     "text": [
      "CHECKING DONE\n",
      "W symmetric\n",
      "matrix shape 10x10, 500 estimations\n",
      "proportion of results where both algorithm do not give the same output: 0.12\n"
     ]
    }
   ],
   "source": [
    "n = 10\n",
    "nbr_iter = 500\n",
    "pb = 0\n",
    "cannot_solve = 0\n",
    "\n",
    "for _ in range(nbr_iter):\n",
    "    normalized_wigner = get_wigner((n,n)) / sqrt(n)\n",
    "    matrix = np.eye(n) - normalized_wigner\n",
    "    \n",
    "    pm, J = p_matrix_Rohn(matrix)\n",
    "\n",
    "    if pm == 1:\n",
    "        rohn_pmat = True\n",
    "    elif pm == -1:\n",
    "        cannot_solve += 1\n",
    "    else: \n",
    "        rohn_pmat = False\n",
    "        \n",
    "    tsatso_pmat = p_matrix_Tsatsomeros(matrix)\n",
    "        \n",
    "    if tsatso_pmat != rohn_pmat:\n",
    "        pb += 1\n",
    "        #print(np.linalg.det(matrix), matrix)\n",
    "        #print(\"Output from Rohn        \", rohn_pmat, pm)\n",
    "        #print(\"Output from Tsatsomeros \", tsatso_pmat)\n",
    "        \n",
    "print(\"CHECKING DONE\")\n",
    "print(r\"W symmetric\")\n",
    "print(f\"matrix shape {n}x{n}, {nbr_iter} estimations\")\n",
    "print(f\"proportion of results where both algorithm do not give the same output: {pb / (nbr_iter - cannot_solve)}\")"
   ]
  },
  {
   "cell_type": "code",
   "execution_count": 11,
   "id": "08863280-346c-41e9-ae2a-94fad7f911da",
   "metadata": {},
   "outputs": [
    {
     "name": "stdout",
     "output_type": "stream",
     "text": [
      "CHECKING DONE\n",
      "symmetric positive definite matrix\n",
      "matrix shape 10x10, 500 estimations\n",
      "proportion of results where both algorithm do not give the same output: 0.0\n"
     ]
    }
   ],
   "source": [
    "n = 10\n",
    "nbr_iter = 500\n",
    "pb = 0\n",
    "cannot_solve = 0\n",
    "\n",
    "for _ in range(nbr_iter):\n",
    "    matrix = make_spd_matrix(n).round(3)\n",
    "    \n",
    "    pm, J = p_matrix_Rohn(matrix)\n",
    "\n",
    "    if pm == 1:\n",
    "        rohn_pmat = True\n",
    "    elif pm == -1:\n",
    "        cannot_solve += 1\n",
    "    else: \n",
    "        rohn_pmat = False\n",
    "        \n",
    "    tsatso_pmat = p_matrix_Tsatsomeros(matrix)\n",
    "        \n",
    "    if tsatso_pmat != rohn_pmat:\n",
    "        pb += 1\n",
    "        #print(np.linalg.det(matrix), matrix)\n",
    "        #print(\"Output from Rohn        \", rohn_pmat, pm)\n",
    "        #print(\"Output from Tsatsomeros \", tsatso_pmat)\n",
    "\n",
    "print(\"CHECKING DONE\")\n",
    "print(\"symmetric positive definite matrix\")\n",
    "print(f\"matrix shape {n}x{n}, {nbr_iter} estimations\")\n",
    "print(f\"proportion of results where both algorithm do not give the same output: {pb / (nbr_iter - cannot_solve)}\")"
   ]
  }
 ],
 "metadata": {
  "kernelspec": {
   "display_name": "Python 3",
   "language": "python",
   "name": "python3"
  },
  "language_info": {
   "codemirror_mode": {
    "name": "ipython",
    "version": 3
   },
   "file_extension": ".py",
   "mimetype": "text/x-python",
   "name": "python",
   "nbconvert_exporter": "python",
   "pygments_lexer": "ipython3",
   "version": "3.8.8"
  }
 },
 "nbformat": 4,
 "nbformat_minor": 5
}
